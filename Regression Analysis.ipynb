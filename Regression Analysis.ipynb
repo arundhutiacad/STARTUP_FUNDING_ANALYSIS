{
 "cells": [
  {
   "cell_type": "markdown",
   "id": "27a5cd57",
   "metadata": {},
   "source": [
    "<div style=\"text-align:center\">\n",
    "        <h2>INDIAN STARTUP FUNDING ANALYSIS</h2>\n",
    "</div>"
   ]
  },
  {
   "cell_type": "code",
   "execution_count": 1,
   "id": "09320666",
   "metadata": {},
   "outputs": [],
   "source": [
    "#importing necessary libraries\n",
    "import pandas as pd\n",
    "import numpy as np\n",
    "import matplotlib.pyplot as plt\n",
    "import seaborn as sns\n",
    "%matplotlib inline\n",
    "import warnings\n",
    "warnings.filterwarnings('ignore')\n",
    "\n",
    "#importing libraries for machine learning\n",
    "from sklearn.preprocessing import LabelEncoder\n",
    "from sklearn.linear_model import LinearRegression\n",
    "from sklearn.model_selection import train_test_split\n",
    "from sklearn import metrics\n",
    "from sklearn.metrics import r2_score\n",
    "from sklearn.preprocessing import StandardScaler"
   ]
  },
  {
   "cell_type": "code",
   "execution_count": 2,
   "id": "01109040",
   "metadata": {},
   "outputs": [],
   "source": [
    "df = pd.read_csv('C:/Users/Harshita/Desktop/Stats project Datasets/Unicorn data(funding).csv')\n",
    "data = pd.read_csv('C:/Users/Harshita/Desktop/Stats project Datasets/full_trak.in_data.csv')"
   ]
  },
  {
   "cell_type": "code",
   "execution_count": 3,
   "id": "cbd94085",
   "metadata": {},
   "outputs": [
    {
     "data": {
      "text/html": [
       "<div>\n",
       "<style scoped>\n",
       "    .dataframe tbody tr th:only-of-type {\n",
       "        vertical-align: middle;\n",
       "    }\n",
       "\n",
       "    .dataframe tbody tr th {\n",
       "        vertical-align: top;\n",
       "    }\n",
       "\n",
       "    .dataframe thead th {\n",
       "        text-align: right;\n",
       "    }\n",
       "</style>\n",
       "<table border=\"1\" class=\"dataframe\">\n",
       "  <thead>\n",
       "    <tr style=\"text-align: right;\">\n",
       "      <th></th>\n",
       "      <th>Startup Name</th>\n",
       "      <th>Industry</th>\n",
       "      <th>Founding Year</th>\n",
       "      <th>Unicorn Entry Year</th>\n",
       "      <th>Profit in 2021</th>\n",
       "      <th>Current Valuation</th>\n",
       "      <th>Acquisitions</th>\n",
       "      <th>IPO Status</th>\n",
       "      <th>location</th>\n",
       "      <th>Funding(Amt in USD)</th>\n",
       "    </tr>\n",
       "  </thead>\n",
       "  <tbody>\n",
       "    <tr>\n",
       "      <th>0</th>\n",
       "      <td>PhysicsWallah</td>\n",
       "      <td>Edtech</td>\n",
       "      <td>2016</td>\n",
       "      <td>2022</td>\n",
       "      <td>-$0.877 Million</td>\n",
       "      <td>$1.1 Billion</td>\n",
       "      <td>0</td>\n",
       "      <td>Unlisted</td>\n",
       "      <td>Rajasthan</td>\n",
       "      <td>NaN</td>\n",
       "    </tr>\n",
       "    <tr>\n",
       "      <th>1</th>\n",
       "      <td>LeadSquared</td>\n",
       "      <td>SaaS- CRM</td>\n",
       "      <td>2011</td>\n",
       "      <td>2022</td>\n",
       "      <td>-$1 Million</td>\n",
       "      <td>$1 BIllion</td>\n",
       "      <td>0</td>\n",
       "      <td>Unlisted</td>\n",
       "      <td>Karnataka</td>\n",
       "      <td>NaN</td>\n",
       "    </tr>\n",
       "    <tr>\n",
       "      <th>2</th>\n",
       "      <td>ElasticRun</td>\n",
       "      <td>E-commerce Logistics</td>\n",
       "      <td>2015</td>\n",
       "      <td>2022</td>\n",
       "      <td>-$12 Million</td>\n",
       "      <td>$1.5 Billion</td>\n",
       "      <td>0</td>\n",
       "      <td>Unlisted</td>\n",
       "      <td>Maharashtra</td>\n",
       "      <td>20,00,000</td>\n",
       "    </tr>\n",
       "    <tr>\n",
       "      <th>3</th>\n",
       "      <td>LEAD School</td>\n",
       "      <td>Edtech</td>\n",
       "      <td>2012</td>\n",
       "      <td>2022</td>\n",
       "      <td>-$15 Million</td>\n",
       "      <td>$1.1 Billion</td>\n",
       "      <td>1</td>\n",
       "      <td>Unlisted</td>\n",
       "      <td>Maharashtra</td>\n",
       "      <td>NaN</td>\n",
       "    </tr>\n",
       "    <tr>\n",
       "      <th>4</th>\n",
       "      <td>Purplle</td>\n",
       "      <td>E-commerce Personal Care</td>\n",
       "      <td>2012</td>\n",
       "      <td>2022</td>\n",
       "      <td>-$6 Million</td>\n",
       "      <td>$1.1 Billion</td>\n",
       "      <td>1</td>\n",
       "      <td>Unlisted</td>\n",
       "      <td>Maharashtra</td>\n",
       "      <td>5,37,006</td>\n",
       "    </tr>\n",
       "  </tbody>\n",
       "</table>\n",
       "</div>"
      ],
      "text/plain": [
       "    Startup Name                  Industry  Founding Year  Unicorn Entry Year  \\\n",
       "0  PhysicsWallah                    Edtech           2016                2022   \n",
       "1    LeadSquared                 SaaS- CRM           2011                2022   \n",
       "2     ElasticRun      E-commerce Logistics           2015                2022   \n",
       "3    LEAD School                    Edtech           2012                2022   \n",
       "4        Purplle  E-commerce Personal Care           2012                2022   \n",
       "\n",
       "    Profit in 2021 Current Valuation  Acquisitions IPO Status     location  \\\n",
       "0  -$0.877 Million      $1.1 Billion             0   Unlisted    Rajasthan   \n",
       "1      -$1 Million        $1 BIllion             0   Unlisted    Karnataka   \n",
       "2     -$12 Million      $1.5 Billion             0   Unlisted  Maharashtra   \n",
       "3     -$15 Million      $1.1 Billion             1   Unlisted  Maharashtra   \n",
       "4      -$6 Million      $1.1 Billion             1   Unlisted  Maharashtra   \n",
       "\n",
       "  Funding(Amt in USD)  \n",
       "0                 NaN  \n",
       "1                 NaN  \n",
       "2           20,00,000  \n",
       "3                 NaN  \n",
       "4            5,37,006  "
      ]
     },
     "execution_count": 3,
     "metadata": {},
     "output_type": "execute_result"
    }
   ],
   "source": [
    "df.head()"
   ]
  },
  {
   "cell_type": "code",
   "execution_count": 4,
   "id": "b6b769ed",
   "metadata": {},
   "outputs": [
    {
     "name": "stdout",
     "output_type": "stream",
     "text": [
      "<class 'pandas.core.frame.DataFrame'>\n",
      "RangeIndex: 104 entries, 0 to 103\n",
      "Data columns (total 10 columns):\n",
      " #   Column               Non-Null Count  Dtype \n",
      "---  ------               --------------  ----- \n",
      " 0   Startup Name         104 non-null    object\n",
      " 1   Industry             104 non-null    object\n",
      " 2   Founding Year        104 non-null    int64 \n",
      " 3   Unicorn Entry Year   104 non-null    int64 \n",
      " 4   Profit in 2021       67 non-null     object\n",
      " 5   Current Valuation    104 non-null    object\n",
      " 6   Acquisitions         104 non-null    int64 \n",
      " 7   IPO Status           104 non-null    object\n",
      " 8   location             104 non-null    object\n",
      " 9   Funding(Amt in USD)  66 non-null     object\n",
      "dtypes: int64(3), object(7)\n",
      "memory usage: 8.2+ KB\n"
     ]
    }
   ],
   "source": [
    "df.info()"
   ]
  },
  {
   "cell_type": "code",
   "execution_count": 5,
   "id": "b5f6eed8",
   "metadata": {},
   "outputs": [],
   "source": [
    "for i in df.index:\n",
    "  num = \"\"\n",
    "  for c in df.iat[i,5]:\n",
    "    if c.isdigit() or c == '.':\n",
    "      num = num + c\n",
    "      df.loc[i, ['Current Valuation']] = [num]"
   ]
  },
  {
   "cell_type": "code",
   "execution_count": 6,
   "id": "4d65cbd8",
   "metadata": {},
   "outputs": [],
   "source": [
    "df['Current Valuation'] = df['Current Valuation'].astype('float64')"
   ]
  },
  {
   "cell_type": "code",
   "execution_count": 7,
   "id": "c4ff5055",
   "metadata": {},
   "outputs": [],
   "source": [
    "df[\"Funding(Amt in USD)\"] = df[\"Funding(Amt in USD)\"].apply(lambda x: str(x).replace(\",\",\"\"))\n",
    "df[\"Funding(Amt in USD)\"] = pd.to_numeric(df[\"Funding(Amt in USD)\"],errors='coerce')"
   ]
  },
  {
   "cell_type": "code",
   "execution_count": 8,
   "id": "112b71dd",
   "metadata": {},
   "outputs": [],
   "source": [
    "df1 = df.dropna()"
   ]
  },
  {
   "cell_type": "code",
   "execution_count": 9,
   "id": "a55a970a",
   "metadata": {},
   "outputs": [
    {
     "name": "stdout",
     "output_type": "stream",
     "text": [
      "<class 'pandas.core.frame.DataFrame'>\n",
      "Int64Index: 47 entries, 2 to 103\n",
      "Data columns (total 10 columns):\n",
      " #   Column               Non-Null Count  Dtype  \n",
      "---  ------               --------------  -----  \n",
      " 0   Startup Name         47 non-null     object \n",
      " 1   Industry             47 non-null     object \n",
      " 2   Founding Year        47 non-null     int64  \n",
      " 3   Unicorn Entry Year   47 non-null     int64  \n",
      " 4   Profit in 2021       47 non-null     object \n",
      " 5   Current Valuation    47 non-null     float64\n",
      " 6   Acquisitions         47 non-null     int64  \n",
      " 7   IPO Status           47 non-null     object \n",
      " 8   location             47 non-null     object \n",
      " 9   Funding(Amt in USD)  47 non-null     float64\n",
      "dtypes: float64(2), int64(3), object(5)\n",
      "memory usage: 4.0+ KB\n"
     ]
    }
   ],
   "source": [
    "df1.info()"
   ]
  },
  {
   "cell_type": "code",
   "execution_count": 10,
   "id": "f19b6c9b",
   "metadata": {},
   "outputs": [
    {
     "data": {
      "text/html": [
       "<div>\n",
       "<style scoped>\n",
       "    .dataframe tbody tr th:only-of-type {\n",
       "        vertical-align: middle;\n",
       "    }\n",
       "\n",
       "    .dataframe tbody tr th {\n",
       "        vertical-align: top;\n",
       "    }\n",
       "\n",
       "    .dataframe thead th {\n",
       "        text-align: right;\n",
       "    }\n",
       "</style>\n",
       "<table border=\"1\" class=\"dataframe\">\n",
       "  <thead>\n",
       "    <tr style=\"text-align: right;\">\n",
       "      <th></th>\n",
       "      <th>Current Valuation</th>\n",
       "      <th>Funding(Amt in USD)</th>\n",
       "    </tr>\n",
       "  </thead>\n",
       "  <tbody>\n",
       "    <tr>\n",
       "      <th>Current Valuation</th>\n",
       "      <td>1.000000</td>\n",
       "      <td>0.880474</td>\n",
       "    </tr>\n",
       "    <tr>\n",
       "      <th>Funding(Amt in USD)</th>\n",
       "      <td>0.880474</td>\n",
       "      <td>1.000000</td>\n",
       "    </tr>\n",
       "  </tbody>\n",
       "</table>\n",
       "</div>"
      ],
      "text/plain": [
       "                     Current Valuation  Funding(Amt in USD)\n",
       "Current Valuation             1.000000             0.880474\n",
       "Funding(Amt in USD)           0.880474             1.000000"
      ]
     },
     "execution_count": 10,
     "metadata": {},
     "output_type": "execute_result"
    }
   ],
   "source": [
    "df[['Current Valuation','Funding(Amt in USD)']].corr()"
   ]
  },
  {
   "cell_type": "markdown",
   "id": "05a5d8ef",
   "metadata": {},
   "source": [
    "## Regression Analysis"
   ]
  },
  {
   "cell_type": "markdown",
   "id": "baae7efe",
   "metadata": {},
   "source": [
    "### Splitting the dataframe into training and testing data"
   ]
  },
  {
   "cell_type": "code",
   "execution_count": 13,
   "id": "e5d3fffa",
   "metadata": {},
   "outputs": [],
   "source": [
    "#assigning independent variables to x and dependent variable or response variable to y\n",
    "x = df1[['Funding(Amt in USD)']]\n",
    "y = df1['Current Valuation']"
   ]
  },
  {
   "cell_type": "code",
   "execution_count": 14,
   "id": "90fb57bf",
   "metadata": {},
   "outputs": [],
   "source": [
    "x_train, x_test, y_train, y_test = train_test_split(x, y, test_size = 0.2)"
   ]
  },
  {
   "cell_type": "code",
   "execution_count": 15,
   "id": "4f172fca",
   "metadata": {},
   "outputs": [
    {
     "name": "stdout",
     "output_type": "stream",
     "text": [
      "Dimension of x_train : (37, 1)\n",
      "Dimension of x_test : (10, 1)\n",
      "Dimension of y_train : (37,)\n",
      "Dimension of y_test : (10,)\n"
     ]
    }
   ],
   "source": [
    "print(\"Dimension of x_train :\",x_train.shape)\n",
    "print(\"Dimension of x_test :\",x_test.shape)\n",
    "print(\"Dimension of y_train :\",y_train.shape)\n",
    "print(\"Dimension of y_test :\",y_test.shape)"
   ]
  },
  {
   "cell_type": "code",
   "execution_count": 16,
   "id": "a3027d41",
   "metadata": {},
   "outputs": [],
   "source": [
    "lm = LinearRegression()\n",
    "reg = lm.fit(x_train,y_train)"
   ]
  },
  {
   "cell_type": "code",
   "execution_count": 17,
   "id": "51f5d994",
   "metadata": {},
   "outputs": [],
   "source": [
    "predictions = lm.predict(x_test)"
   ]
  },
  {
   "cell_type": "code",
   "execution_count": 19,
   "id": "75eeb771",
   "metadata": {},
   "outputs": [
    {
     "name": "stdout",
     "output_type": "stream",
     "text": [
      "MAE: 2.8821425076694345\n",
      "MSE: 17.16724199963698\n",
      "RMSE: 4.1433370608287445\n"
     ]
    }
   ],
   "source": [
    "print('MAE:', metrics.mean_absolute_error(y_test, predictions))\n",
    "print('MSE:', metrics.mean_squared_error(y_test, predictions))\n",
    "print('RMSE:', np.sqrt(metrics.mean_squared_error(y_test, predictions)))"
   ]
  },
  {
   "cell_type": "code",
   "execution_count": 20,
   "id": "a316a02e",
   "metadata": {},
   "outputs": [
    {
     "data": {
      "text/html": [
       "<div>\n",
       "<style scoped>\n",
       "    .dataframe tbody tr th:only-of-type {\n",
       "        vertical-align: middle;\n",
       "    }\n",
       "\n",
       "    .dataframe tbody tr th {\n",
       "        vertical-align: top;\n",
       "    }\n",
       "\n",
       "    .dataframe thead th {\n",
       "        text-align: right;\n",
       "    }\n",
       "</style>\n",
       "<table border=\"1\" class=\"dataframe\">\n",
       "  <thead>\n",
       "    <tr style=\"text-align: right;\">\n",
       "      <th></th>\n",
       "      <th>coefficients</th>\n",
       "    </tr>\n",
       "  </thead>\n",
       "  <tbody>\n",
       "    <tr>\n",
       "      <th>Funding(Amt in USD)</th>\n",
       "      <td>3.985934e-09</td>\n",
       "    </tr>\n",
       "  </tbody>\n",
       "</table>\n",
       "</div>"
      ],
      "text/plain": [
       "                     coefficients\n",
       "Funding(Amt in USD)  3.985934e-09"
      ]
     },
     "execution_count": 20,
     "metadata": {},
     "output_type": "execute_result"
    }
   ],
   "source": [
    "coefficients = pd.DataFrame(lm.coef_,x.columns)\n",
    "coefficients.columns = ['coefficients']\n",
    "coefficients"
   ]
  },
  {
   "cell_type": "code",
   "execution_count": 21,
   "id": "89cc60ef",
   "metadata": {},
   "outputs": [],
   "source": [
    "yhat = reg.predict(x)"
   ]
  },
  {
   "cell_type": "code",
   "execution_count": 22,
   "id": "a984d0a8",
   "metadata": {},
   "outputs": [
    {
     "name": "stdout",
     "output_type": "stream",
     "text": [
      "R-Squared = 0.7726082132987129\n"
     ]
    }
   ],
   "source": [
    "r2 = r2_score(y,yhat)\n",
    "print(\"R-Squared =\",r2)"
   ]
  },
  {
   "cell_type": "markdown",
   "id": "a24cd474",
   "metadata": {},
   "source": [
    "### Fiiting the model on data (population)"
   ]
  },
  {
   "cell_type": "code",
   "execution_count": 23,
   "id": "0372ce9f",
   "metadata": {},
   "outputs": [
    {
     "name": "stdout",
     "output_type": "stream",
     "text": [
      "<class 'pandas.core.frame.DataFrame'>\n",
      "RangeIndex: 3178 entries, 0 to 3177\n",
      "Data columns (total 9 columns):\n",
      " #   Column             Non-Null Count  Dtype \n",
      "---  ------             --------------  ----- \n",
      " 0   Date dd/mm/yyyy    3178 non-null   object\n",
      " 1   Startup Name       3178 non-null   object\n",
      " 2   Industry Vertical  3007 non-null   object\n",
      " 3   SubVertical        2242 non-null   object\n",
      " 4   City  Location     2998 non-null   object\n",
      " 5   Investors Name     3154 non-null   object\n",
      " 6   InvestmentnType    3170 non-null   object\n",
      " 7   Amount in USD      2203 non-null   object\n",
      " 8   Unnamed: 8         419 non-null    object\n",
      "dtypes: object(9)\n",
      "memory usage: 223.6+ KB\n"
     ]
    }
   ],
   "source": [
    "data.info()"
   ]
  },
  {
   "cell_type": "code",
   "execution_count": 24,
   "id": "07ef0107",
   "metadata": {},
   "outputs": [
    {
     "data": {
      "text/html": [
       "<div>\n",
       "<style scoped>\n",
       "    .dataframe tbody tr th:only-of-type {\n",
       "        vertical-align: middle;\n",
       "    }\n",
       "\n",
       "    .dataframe tbody tr th {\n",
       "        vertical-align: top;\n",
       "    }\n",
       "\n",
       "    .dataframe thead th {\n",
       "        text-align: right;\n",
       "    }\n",
       "</style>\n",
       "<table border=\"1\" class=\"dataframe\">\n",
       "  <thead>\n",
       "    <tr style=\"text-align: right;\">\n",
       "      <th></th>\n",
       "      <th>Date dd/mm/yyyy</th>\n",
       "      <th>Startup Name</th>\n",
       "      <th>Industry Vertical</th>\n",
       "      <th>SubVertical</th>\n",
       "      <th>City  Location</th>\n",
       "      <th>Investors Name</th>\n",
       "      <th>InvestmentnType</th>\n",
       "      <th>Amount in USD</th>\n",
       "      <th>Unnamed: 8</th>\n",
       "    </tr>\n",
       "  </thead>\n",
       "  <tbody>\n",
       "    <tr>\n",
       "      <th>0</th>\n",
       "      <td>04/03/2021</td>\n",
       "      <td>DealShare</td>\n",
       "      <td>E-commerce</td>\n",
       "      <td>Online shopping platform</td>\n",
       "      <td>Jaipur, Rajasthan</td>\n",
       "      <td>Innoven Capital</td>\n",
       "      <td>Debt Financing</td>\n",
       "      <td>250,000,000</td>\n",
       "      <td>NaN</td>\n",
       "    </tr>\n",
       "    <tr>\n",
       "      <th>1</th>\n",
       "      <td>31/03/2021</td>\n",
       "      <td>Uniphore</td>\n",
       "      <td>Technology</td>\n",
       "      <td>Conversational Service Automation (CSA)</td>\n",
       "      <td>Palo Alto</td>\n",
       "      <td>Sorenson Capital Partners</td>\n",
       "      <td>Series D</td>\n",
       "      <td>140,000,000</td>\n",
       "      <td>NaN</td>\n",
       "    </tr>\n",
       "    <tr>\n",
       "      <th>2</th>\n",
       "      <td>30/03/2021</td>\n",
       "      <td>Dunzo</td>\n",
       "      <td>E-commerce</td>\n",
       "      <td>Hyper-local delivery app</td>\n",
       "      <td>Bengaluru</td>\n",
       "      <td>Krishtal Advisors Pte Ltd</td>\n",
       "      <td>Series E</td>\n",
       "      <td>8,000,000</td>\n",
       "      <td>NaN</td>\n",
       "    </tr>\n",
       "    <tr>\n",
       "      <th>3</th>\n",
       "      <td>30/03/2021</td>\n",
       "      <td>BYJU’S</td>\n",
       "      <td>Edu-tech</td>\n",
       "      <td>Online tutoring</td>\n",
       "      <td>Bengaluru</td>\n",
       "      <td>MC Global Edtech, B Capital, Baron, others</td>\n",
       "      <td>Series F</td>\n",
       "      <td>460,000,000</td>\n",
       "      <td>NaN</td>\n",
       "    </tr>\n",
       "    <tr>\n",
       "      <th>4</th>\n",
       "      <td>23/03/2021</td>\n",
       "      <td>SkilloVilla</td>\n",
       "      <td>Edu-tech</td>\n",
       "      <td>Career and job-oriented upskilling.</td>\n",
       "      <td>Bengaluru</td>\n",
       "      <td>Titan Capital, others</td>\n",
       "      <td>Seed</td>\n",
       "      <td>300,000,000</td>\n",
       "      <td>NaN</td>\n",
       "    </tr>\n",
       "  </tbody>\n",
       "</table>\n",
       "</div>"
      ],
      "text/plain": [
       "  Date dd/mm/yyyy Startup Name Industry Vertical  \\\n",
       "0      04/03/2021    DealShare        E-commerce   \n",
       "1      31/03/2021     Uniphore        Technology   \n",
       "2      30/03/2021        Dunzo        E-commerce   \n",
       "3      30/03/2021       BYJU’S          Edu-tech   \n",
       "4      23/03/2021  SkilloVilla          Edu-tech   \n",
       "\n",
       "                               SubVertical     City  Location  \\\n",
       "0                 Online shopping platform  Jaipur, Rajasthan   \n",
       "1  Conversational Service Automation (CSA)          Palo Alto   \n",
       "2                 Hyper-local delivery app          Bengaluru   \n",
       "3                          Online tutoring          Bengaluru   \n",
       "4      Career and job-oriented upskilling.          Bengaluru   \n",
       "\n",
       "                               Investors Name InvestmentnType Amount in USD  \\\n",
       "0                             Innoven Capital  Debt Financing   250,000,000   \n",
       "1                   Sorenson Capital Partners        Series D   140,000,000   \n",
       "2                   Krishtal Advisors Pte Ltd        Series E     8,000,000   \n",
       "3  MC Global Edtech, B Capital, Baron, others        Series F   460,000,000   \n",
       "4                       Titan Capital, others            Seed   300,000,000   \n",
       "\n",
       "  Unnamed: 8  \n",
       "0        NaN  \n",
       "1        NaN  \n",
       "2        NaN  \n",
       "3        NaN  \n",
       "4        NaN  "
      ]
     },
     "execution_count": 24,
     "metadata": {},
     "output_type": "execute_result"
    }
   ],
   "source": [
    "data.head()"
   ]
  },
  {
   "cell_type": "code",
   "execution_count": 25,
   "id": "28eeb43b",
   "metadata": {},
   "outputs": [
    {
     "data": {
      "text/html": [
       "<div>\n",
       "<style scoped>\n",
       "    .dataframe tbody tr th:only-of-type {\n",
       "        vertical-align: middle;\n",
       "    }\n",
       "\n",
       "    .dataframe tbody tr th {\n",
       "        vertical-align: top;\n",
       "    }\n",
       "\n",
       "    .dataframe thead th {\n",
       "        text-align: right;\n",
       "    }\n",
       "</style>\n",
       "<table border=\"1\" class=\"dataframe\">\n",
       "  <thead>\n",
       "    <tr style=\"text-align: right;\">\n",
       "      <th></th>\n",
       "      <th>Amount in USD</th>\n",
       "    </tr>\n",
       "  </thead>\n",
       "  <tbody>\n",
       "    <tr>\n",
       "      <th>0</th>\n",
       "      <td>250,000,000</td>\n",
       "    </tr>\n",
       "    <tr>\n",
       "      <th>1</th>\n",
       "      <td>140,000,000</td>\n",
       "    </tr>\n",
       "    <tr>\n",
       "      <th>2</th>\n",
       "      <td>8,000,000</td>\n",
       "    </tr>\n",
       "    <tr>\n",
       "      <th>3</th>\n",
       "      <td>460,000,000</td>\n",
       "    </tr>\n",
       "    <tr>\n",
       "      <th>4</th>\n",
       "      <td>300,000,000</td>\n",
       "    </tr>\n",
       "    <tr>\n",
       "      <th>...</th>\n",
       "      <td>...</td>\n",
       "    </tr>\n",
       "    <tr>\n",
       "      <th>3173</th>\n",
       "      <td>45,00,000</td>\n",
       "    </tr>\n",
       "    <tr>\n",
       "      <th>3174</th>\n",
       "      <td>8,25,000</td>\n",
       "    </tr>\n",
       "    <tr>\n",
       "      <th>3175</th>\n",
       "      <td>15,00,000</td>\n",
       "    </tr>\n",
       "    <tr>\n",
       "      <th>3176</th>\n",
       "      <td>NaN</td>\n",
       "    </tr>\n",
       "    <tr>\n",
       "      <th>3177</th>\n",
       "      <td>1,40,000</td>\n",
       "    </tr>\n",
       "  </tbody>\n",
       "</table>\n",
       "<p>3178 rows × 1 columns</p>\n",
       "</div>"
      ],
      "text/plain": [
       "     Amount in USD\n",
       "0      250,000,000\n",
       "1      140,000,000\n",
       "2        8,000,000\n",
       "3      460,000,000\n",
       "4      300,000,000\n",
       "...            ...\n",
       "3173     45,00,000\n",
       "3174      8,25,000\n",
       "3175     15,00,000\n",
       "3176           NaN\n",
       "3177      1,40,000\n",
       "\n",
       "[3178 rows x 1 columns]"
      ]
     },
     "execution_count": 25,
     "metadata": {},
     "output_type": "execute_result"
    }
   ],
   "source": [
    "data = data.filter(['Amount in USD'])\n",
    "data"
   ]
  },
  {
   "cell_type": "code",
   "execution_count": 26,
   "id": "933bef3a",
   "metadata": {},
   "outputs": [
    {
     "name": "stdout",
     "output_type": "stream",
     "text": [
      "<class 'pandas.core.frame.DataFrame'>\n",
      "RangeIndex: 3178 entries, 0 to 3177\n",
      "Data columns (total 1 columns):\n",
      " #   Column         Non-Null Count  Dtype \n",
      "---  ------         --------------  ----- \n",
      " 0   Amount in USD  2203 non-null   object\n",
      "dtypes: object(1)\n",
      "memory usage: 25.0+ KB\n"
     ]
    }
   ],
   "source": [
    "data.info()"
   ]
  },
  {
   "cell_type": "code",
   "execution_count": 27,
   "id": "d2c21b6d",
   "metadata": {},
   "outputs": [],
   "source": [
    "data[\"Amount in USD\"] = data[\"Amount in USD\"].apply(lambda x: str(x).replace(\",\",\"\"))\n",
    "data[\"Amount in USD\"] = pd.to_numeric(data[\"Amount in USD\"],errors='coerce')\n",
    "\n",
    "data['Amount in USD'] = data['Amount in USD'].replace({\n",
    "        'undisclosed': np.NaN,\n",
    "        'unknown': np.NaN,\n",
    "        'Undisclosed': np.NaN,\n",
    "        'N/A': np.NaN,\n",
    "        '14342000+': '14342000'\n",
    "    })\n",
    "\n",
    "data.dropna(subset = ['Amount in USD'],axis = 0,inplace = True)"
   ]
  },
  {
   "cell_type": "code",
   "execution_count": 28,
   "id": "ec330448",
   "metadata": {},
   "outputs": [
    {
     "name": "stdout",
     "output_type": "stream",
     "text": [
      "<class 'pandas.core.frame.DataFrame'>\n",
      "Int64Index: 2180 entries, 0 to 3177\n",
      "Data columns (total 1 columns):\n",
      " #   Column         Non-Null Count  Dtype  \n",
      "---  ------         --------------  -----  \n",
      " 0   Amount in USD  2180 non-null   float64\n",
      "dtypes: float64(1)\n",
      "memory usage: 34.1 KB\n"
     ]
    }
   ],
   "source": [
    "data.info()"
   ]
  },
  {
   "cell_type": "code",
   "execution_count": 29,
   "id": "3e7fcb05",
   "metadata": {},
   "outputs": [],
   "source": [
    "Funding = data['Amount in USD'].values"
   ]
  },
  {
   "cell_type": "code",
   "execution_count": 30,
   "id": "5376f864",
   "metadata": {},
   "outputs": [
    {
     "data": {
      "text/plain": [
       "array([2.50e+08, 1.40e+08, 8.00e+06, ..., 8.25e+05, 1.50e+06, 1.40e+05])"
      ]
     },
     "execution_count": 30,
     "metadata": {},
     "output_type": "execute_result"
    }
   ],
   "source": [
    "Funding"
   ]
  },
  {
   "cell_type": "markdown",
   "id": "b13ee0ab",
   "metadata": {},
   "source": [
    "### Saving and Loading the model"
   ]
  },
  {
   "cell_type": "code",
   "execution_count": 31,
   "id": "f0205732",
   "metadata": {},
   "outputs": [],
   "source": [
    "import pickle\n",
    "saved_model = pickle.dumps(lm)"
   ]
  },
  {
   "cell_type": "code",
   "execution_count": 32,
   "id": "9d60c918",
   "metadata": {},
   "outputs": [],
   "source": [
    "lm1 = pickle.loads(saved_model)\n",
    "prediction = lm1.predict(data)"
   ]
  },
  {
   "cell_type": "code",
   "execution_count": 33,
   "id": "2b58d88a",
   "metadata": {},
   "outputs": [
    {
     "data": {
      "text/html": [
       "<div>\n",
       "<style scoped>\n",
       "    .dataframe tbody tr th:only-of-type {\n",
       "        vertical-align: middle;\n",
       "    }\n",
       "\n",
       "    .dataframe tbody tr th {\n",
       "        vertical-align: top;\n",
       "    }\n",
       "\n",
       "    .dataframe thead th {\n",
       "        text-align: right;\n",
       "    }\n",
       "</style>\n",
       "<table border=\"1\" class=\"dataframe\">\n",
       "  <thead>\n",
       "    <tr style=\"text-align: right;\">\n",
       "      <th></th>\n",
       "      <th>Predicted Valuation</th>\n",
       "    </tr>\n",
       "  </thead>\n",
       "  <tbody>\n",
       "    <tr>\n",
       "      <th>0</th>\n",
       "      <td>3.883213</td>\n",
       "    </tr>\n",
       "    <tr>\n",
       "      <th>1</th>\n",
       "      <td>3.444760</td>\n",
       "    </tr>\n",
       "    <tr>\n",
       "      <th>2</th>\n",
       "      <td>2.918617</td>\n",
       "    </tr>\n",
       "    <tr>\n",
       "      <th>3</th>\n",
       "      <td>4.720259</td>\n",
       "    </tr>\n",
       "    <tr>\n",
       "      <th>4</th>\n",
       "      <td>4.082510</td>\n",
       "    </tr>\n",
       "    <tr>\n",
       "      <th>...</th>\n",
       "      <td>...</td>\n",
       "    </tr>\n",
       "    <tr>\n",
       "      <th>2175</th>\n",
       "      <td>2.896695</td>\n",
       "    </tr>\n",
       "    <tr>\n",
       "      <th>2176</th>\n",
       "      <td>2.904666</td>\n",
       "    </tr>\n",
       "    <tr>\n",
       "      <th>2177</th>\n",
       "      <td>2.890018</td>\n",
       "    </tr>\n",
       "    <tr>\n",
       "      <th>2178</th>\n",
       "      <td>2.892709</td>\n",
       "    </tr>\n",
       "    <tr>\n",
       "      <th>2179</th>\n",
       "      <td>2.887288</td>\n",
       "    </tr>\n",
       "  </tbody>\n",
       "</table>\n",
       "<p>2180 rows × 1 columns</p>\n",
       "</div>"
      ],
      "text/plain": [
       "      Predicted Valuation\n",
       "0                3.883213\n",
       "1                3.444760\n",
       "2                2.918617\n",
       "3                4.720259\n",
       "4                4.082510\n",
       "...                   ...\n",
       "2175             2.896695\n",
       "2176             2.904666\n",
       "2177             2.890018\n",
       "2178             2.892709\n",
       "2179             2.887288\n",
       "\n",
       "[2180 rows x 1 columns]"
      ]
     },
     "execution_count": 33,
     "metadata": {},
     "output_type": "execute_result"
    }
   ],
   "source": [
    "predicted_values = pd.DataFrame(prediction,columns = ['Predicted Valuation'])\n",
    "predicted_values"
   ]
  },
  {
   "cell_type": "code",
   "execution_count": 34,
   "id": "f29648d6",
   "metadata": {},
   "outputs": [
    {
     "data": {
      "text/html": [
       "<div>\n",
       "<style scoped>\n",
       "    .dataframe tbody tr th:only-of-type {\n",
       "        vertical-align: middle;\n",
       "    }\n",
       "\n",
       "    .dataframe tbody tr th {\n",
       "        vertical-align: top;\n",
       "    }\n",
       "\n",
       "    .dataframe thead th {\n",
       "        text-align: right;\n",
       "    }\n",
       "</style>\n",
       "<table border=\"1\" class=\"dataframe\">\n",
       "  <thead>\n",
       "    <tr style=\"text-align: right;\">\n",
       "      <th></th>\n",
       "      <th>Funding</th>\n",
       "    </tr>\n",
       "  </thead>\n",
       "  <tbody>\n",
       "    <tr>\n",
       "      <th>0</th>\n",
       "      <td>250000000.0</td>\n",
       "    </tr>\n",
       "    <tr>\n",
       "      <th>1</th>\n",
       "      <td>140000000.0</td>\n",
       "    </tr>\n",
       "    <tr>\n",
       "      <th>2</th>\n",
       "      <td>8000000.0</td>\n",
       "    </tr>\n",
       "    <tr>\n",
       "      <th>3</th>\n",
       "      <td>460000000.0</td>\n",
       "    </tr>\n",
       "    <tr>\n",
       "      <th>4</th>\n",
       "      <td>300000000.0</td>\n",
       "    </tr>\n",
       "    <tr>\n",
       "      <th>...</th>\n",
       "      <td>...</td>\n",
       "    </tr>\n",
       "    <tr>\n",
       "      <th>2175</th>\n",
       "      <td>2500000.0</td>\n",
       "    </tr>\n",
       "    <tr>\n",
       "      <th>2176</th>\n",
       "      <td>4500000.0</td>\n",
       "    </tr>\n",
       "    <tr>\n",
       "      <th>2177</th>\n",
       "      <td>825000.0</td>\n",
       "    </tr>\n",
       "    <tr>\n",
       "      <th>2178</th>\n",
       "      <td>1500000.0</td>\n",
       "    </tr>\n",
       "    <tr>\n",
       "      <th>2179</th>\n",
       "      <td>140000.0</td>\n",
       "    </tr>\n",
       "  </tbody>\n",
       "</table>\n",
       "<p>2180 rows × 1 columns</p>\n",
       "</div>"
      ],
      "text/plain": [
       "          Funding\n",
       "0     250000000.0\n",
       "1     140000000.0\n",
       "2       8000000.0\n",
       "3     460000000.0\n",
       "4     300000000.0\n",
       "...           ...\n",
       "2175    2500000.0\n",
       "2176    4500000.0\n",
       "2177     825000.0\n",
       "2178    1500000.0\n",
       "2179     140000.0\n",
       "\n",
       "[2180 rows x 1 columns]"
      ]
     },
     "execution_count": 34,
     "metadata": {},
     "output_type": "execute_result"
    }
   ],
   "source": [
    "F = pd.DataFrame(Funding,columns = ['Funding'])\n",
    "F"
   ]
  },
  {
   "cell_type": "code",
   "execution_count": 35,
   "id": "42c07830",
   "metadata": {},
   "outputs": [
    {
     "data": {
      "text/html": [
       "<div>\n",
       "<style scoped>\n",
       "    .dataframe tbody tr th:only-of-type {\n",
       "        vertical-align: middle;\n",
       "    }\n",
       "\n",
       "    .dataframe tbody tr th {\n",
       "        vertical-align: top;\n",
       "    }\n",
       "\n",
       "    .dataframe thead th {\n",
       "        text-align: right;\n",
       "    }\n",
       "</style>\n",
       "<table border=\"1\" class=\"dataframe\">\n",
       "  <thead>\n",
       "    <tr style=\"text-align: right;\">\n",
       "      <th></th>\n",
       "      <th>Funding</th>\n",
       "      <th>Predicted Valuation</th>\n",
       "    </tr>\n",
       "  </thead>\n",
       "  <tbody>\n",
       "    <tr>\n",
       "      <th>0</th>\n",
       "      <td>250000000.0</td>\n",
       "      <td>3.883213</td>\n",
       "    </tr>\n",
       "    <tr>\n",
       "      <th>1</th>\n",
       "      <td>140000000.0</td>\n",
       "      <td>3.444760</td>\n",
       "    </tr>\n",
       "    <tr>\n",
       "      <th>2</th>\n",
       "      <td>8000000.0</td>\n",
       "      <td>2.918617</td>\n",
       "    </tr>\n",
       "    <tr>\n",
       "      <th>3</th>\n",
       "      <td>460000000.0</td>\n",
       "      <td>4.720259</td>\n",
       "    </tr>\n",
       "    <tr>\n",
       "      <th>4</th>\n",
       "      <td>300000000.0</td>\n",
       "      <td>4.082510</td>\n",
       "    </tr>\n",
       "    <tr>\n",
       "      <th>...</th>\n",
       "      <td>...</td>\n",
       "      <td>...</td>\n",
       "    </tr>\n",
       "    <tr>\n",
       "      <th>2175</th>\n",
       "      <td>2500000.0</td>\n",
       "      <td>2.896695</td>\n",
       "    </tr>\n",
       "    <tr>\n",
       "      <th>2176</th>\n",
       "      <td>4500000.0</td>\n",
       "      <td>2.904666</td>\n",
       "    </tr>\n",
       "    <tr>\n",
       "      <th>2177</th>\n",
       "      <td>825000.0</td>\n",
       "      <td>2.890018</td>\n",
       "    </tr>\n",
       "    <tr>\n",
       "      <th>2178</th>\n",
       "      <td>1500000.0</td>\n",
       "      <td>2.892709</td>\n",
       "    </tr>\n",
       "    <tr>\n",
       "      <th>2179</th>\n",
       "      <td>140000.0</td>\n",
       "      <td>2.887288</td>\n",
       "    </tr>\n",
       "  </tbody>\n",
       "</table>\n",
       "<p>2180 rows × 2 columns</p>\n",
       "</div>"
      ],
      "text/plain": [
       "          Funding  Predicted Valuation\n",
       "0     250000000.0             3.883213\n",
       "1     140000000.0             3.444760\n",
       "2       8000000.0             2.918617\n",
       "3     460000000.0             4.720259\n",
       "4     300000000.0             4.082510\n",
       "...           ...                  ...\n",
       "2175    2500000.0             2.896695\n",
       "2176    4500000.0             2.904666\n",
       "2177     825000.0             2.890018\n",
       "2178    1500000.0             2.892709\n",
       "2179     140000.0             2.887288\n",
       "\n",
       "[2180 rows x 2 columns]"
      ]
     },
     "execution_count": 35,
     "metadata": {},
     "output_type": "execute_result"
    }
   ],
   "source": [
    "result = pd.concat([F,predicted_values], axis=1)\n",
    "result"
   ]
  },
  {
   "cell_type": "code",
   "execution_count": 36,
   "id": "d14372bb",
   "metadata": {},
   "outputs": [],
   "source": [
    "result.to_csv('predict.csv')  "
   ]
  }
 ],
 "metadata": {
  "kernelspec": {
   "display_name": "Python 3 (ipykernel)",
   "language": "python",
   "name": "python3"
  },
  "language_info": {
   "codemirror_mode": {
    "name": "ipython",
    "version": 3
   },
   "file_extension": ".py",
   "mimetype": "text/x-python",
   "name": "python",
   "nbconvert_exporter": "python",
   "pygments_lexer": "ipython3",
   "version": "3.9.13"
  }
 },
 "nbformat": 4,
 "nbformat_minor": 5
}
