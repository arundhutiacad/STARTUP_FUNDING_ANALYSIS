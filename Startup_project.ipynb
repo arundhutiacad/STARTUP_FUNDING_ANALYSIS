{
  "nbformat": 4,
  "nbformat_minor": 0,
  "metadata": {
    "colab": {
      "provenance": []
    },
    "kernelspec": {
      "name": "python3",
      "display_name": "Python 3"
    },
    "language_info": {
      "name": "python"
    }
  },
  "cells": [
    {
      "cell_type": "code",
      "source": [
        "import pandas as pd\n",
        "import seaborn as sns"
      ],
      "metadata": {
        "id": "06HtyHtlZ4Pc"
      },
      "execution_count": null,
      "outputs": []
    },
    {
      "cell_type": "code",
      "source": [
        "df = pd.read_csv('/content/UNICORN.csv')\n"
      ],
      "metadata": {
        "id": "BOKy4C_1Z6cH"
      },
      "execution_count": null,
      "outputs": []
    },
    {
      "cell_type": "code",
      "source": [
        "df.head()"
      ],
      "metadata": {
        "colab": {
          "base_uri": "https://localhost:8080/",
          "height": 372
        },
        "id": "YSB6VkuPaKM8",
        "outputId": "e5784e2b-5f0d-43f8-a554-e504699b7d63"
      },
      "execution_count": null,
      "outputs": [
        {
          "output_type": "execute_result",
          "data": {
            "text/plain": [
              "   Unnamed: 0   Startup Name    Industry               FoundingYear  \\\n",
              "0           0  PhysicsWallah  Technology  Post Startup India Scheme   \n",
              "1           1    LeadSquared  Technology   Pre Startup India Scheme   \n",
              "2           2     ElasticRun  E-Commerce   Pre Startup India Scheme   \n",
              "3           3    LEAD School  Technology   Pre Startup India Scheme   \n",
              "4           4        Purplle  E-Commerce   Pre Startup India Scheme   \n",
              "\n",
              "   Unicorn Entry Year   Profit in 2021  CurrentValuation  Acquisitions  \\\n",
              "0                2022  -$0.877 Million               1.1             0   \n",
              "1                2022      -$1 Million               1.0             0   \n",
              "2                2022     -$12 Million               1.5             0   \n",
              "3                2022     -$15 Million               1.1             1   \n",
              "4                2022      -$6 Million               1.1             1   \n",
              "\n",
              "  IPO Status      location  \n",
              "0   Unlisted  North Region  \n",
              "1   Unlisted  South Region  \n",
              "2   Unlisted   West Region  \n",
              "3   Unlisted   West Region  \n",
              "4   Unlisted   West Region  "
            ],
            "text/html": [
              "\n",
              "  <div id=\"df-f636cec4-5e0c-47f5-8791-9960ea73d322\">\n",
              "    <div class=\"colab-df-container\">\n",
              "      <div>\n",
              "<style scoped>\n",
              "    .dataframe tbody tr th:only-of-type {\n",
              "        vertical-align: middle;\n",
              "    }\n",
              "\n",
              "    .dataframe tbody tr th {\n",
              "        vertical-align: top;\n",
              "    }\n",
              "\n",
              "    .dataframe thead th {\n",
              "        text-align: right;\n",
              "    }\n",
              "</style>\n",
              "<table border=\"1\" class=\"dataframe\">\n",
              "  <thead>\n",
              "    <tr style=\"text-align: right;\">\n",
              "      <th></th>\n",
              "      <th>Unnamed: 0</th>\n",
              "      <th>Startup Name</th>\n",
              "      <th>Industry</th>\n",
              "      <th>FoundingYear</th>\n",
              "      <th>Unicorn Entry Year</th>\n",
              "      <th>Profit in 2021</th>\n",
              "      <th>CurrentValuation</th>\n",
              "      <th>Acquisitions</th>\n",
              "      <th>IPO Status</th>\n",
              "      <th>location</th>\n",
              "    </tr>\n",
              "  </thead>\n",
              "  <tbody>\n",
              "    <tr>\n",
              "      <th>0</th>\n",
              "      <td>0</td>\n",
              "      <td>PhysicsWallah</td>\n",
              "      <td>Technology</td>\n",
              "      <td>Post Startup India Scheme</td>\n",
              "      <td>2022</td>\n",
              "      <td>-$0.877 Million</td>\n",
              "      <td>1.1</td>\n",
              "      <td>0</td>\n",
              "      <td>Unlisted</td>\n",
              "      <td>North Region</td>\n",
              "    </tr>\n",
              "    <tr>\n",
              "      <th>1</th>\n",
              "      <td>1</td>\n",
              "      <td>LeadSquared</td>\n",
              "      <td>Technology</td>\n",
              "      <td>Pre Startup India Scheme</td>\n",
              "      <td>2022</td>\n",
              "      <td>-$1 Million</td>\n",
              "      <td>1.0</td>\n",
              "      <td>0</td>\n",
              "      <td>Unlisted</td>\n",
              "      <td>South Region</td>\n",
              "    </tr>\n",
              "    <tr>\n",
              "      <th>2</th>\n",
              "      <td>2</td>\n",
              "      <td>ElasticRun</td>\n",
              "      <td>E-Commerce</td>\n",
              "      <td>Pre Startup India Scheme</td>\n",
              "      <td>2022</td>\n",
              "      <td>-$12 Million</td>\n",
              "      <td>1.5</td>\n",
              "      <td>0</td>\n",
              "      <td>Unlisted</td>\n",
              "      <td>West Region</td>\n",
              "    </tr>\n",
              "    <tr>\n",
              "      <th>3</th>\n",
              "      <td>3</td>\n",
              "      <td>LEAD School</td>\n",
              "      <td>Technology</td>\n",
              "      <td>Pre Startup India Scheme</td>\n",
              "      <td>2022</td>\n",
              "      <td>-$15 Million</td>\n",
              "      <td>1.1</td>\n",
              "      <td>1</td>\n",
              "      <td>Unlisted</td>\n",
              "      <td>West Region</td>\n",
              "    </tr>\n",
              "    <tr>\n",
              "      <th>4</th>\n",
              "      <td>4</td>\n",
              "      <td>Purplle</td>\n",
              "      <td>E-Commerce</td>\n",
              "      <td>Pre Startup India Scheme</td>\n",
              "      <td>2022</td>\n",
              "      <td>-$6 Million</td>\n",
              "      <td>1.1</td>\n",
              "      <td>1</td>\n",
              "      <td>Unlisted</td>\n",
              "      <td>West Region</td>\n",
              "    </tr>\n",
              "  </tbody>\n",
              "</table>\n",
              "</div>\n",
              "      <button class=\"colab-df-convert\" onclick=\"convertToInteractive('df-f636cec4-5e0c-47f5-8791-9960ea73d322')\"\n",
              "              title=\"Convert this dataframe to an interactive table.\"\n",
              "              style=\"display:none;\">\n",
              "        \n",
              "  <svg xmlns=\"http://www.w3.org/2000/svg\" height=\"24px\"viewBox=\"0 0 24 24\"\n",
              "       width=\"24px\">\n",
              "    <path d=\"M0 0h24v24H0V0z\" fill=\"none\"/>\n",
              "    <path d=\"M18.56 5.44l.94 2.06.94-2.06 2.06-.94-2.06-.94-.94-2.06-.94 2.06-2.06.94zm-11 1L8.5 8.5l.94-2.06 2.06-.94-2.06-.94L8.5 2.5l-.94 2.06-2.06.94zm10 10l.94 2.06.94-2.06 2.06-.94-2.06-.94-.94-2.06-.94 2.06-2.06.94z\"/><path d=\"M17.41 7.96l-1.37-1.37c-.4-.4-.92-.59-1.43-.59-.52 0-1.04.2-1.43.59L10.3 9.45l-7.72 7.72c-.78.78-.78 2.05 0 2.83L4 21.41c.39.39.9.59 1.41.59.51 0 1.02-.2 1.41-.59l7.78-7.78 2.81-2.81c.8-.78.8-2.07 0-2.86zM5.41 20L4 18.59l7.72-7.72 1.47 1.35L5.41 20z\"/>\n",
              "  </svg>\n",
              "      </button>\n",
              "      \n",
              "  <style>\n",
              "    .colab-df-container {\n",
              "      display:flex;\n",
              "      flex-wrap:wrap;\n",
              "      gap: 12px;\n",
              "    }\n",
              "\n",
              "    .colab-df-convert {\n",
              "      background-color: #E8F0FE;\n",
              "      border: none;\n",
              "      border-radius: 50%;\n",
              "      cursor: pointer;\n",
              "      display: none;\n",
              "      fill: #1967D2;\n",
              "      height: 32px;\n",
              "      padding: 0 0 0 0;\n",
              "      width: 32px;\n",
              "    }\n",
              "\n",
              "    .colab-df-convert:hover {\n",
              "      background-color: #E2EBFA;\n",
              "      box-shadow: 0px 1px 2px rgba(60, 64, 67, 0.3), 0px 1px 3px 1px rgba(60, 64, 67, 0.15);\n",
              "      fill: #174EA6;\n",
              "    }\n",
              "\n",
              "    [theme=dark] .colab-df-convert {\n",
              "      background-color: #3B4455;\n",
              "      fill: #D2E3FC;\n",
              "    }\n",
              "\n",
              "    [theme=dark] .colab-df-convert:hover {\n",
              "      background-color: #434B5C;\n",
              "      box-shadow: 0px 1px 3px 1px rgba(0, 0, 0, 0.15);\n",
              "      filter: drop-shadow(0px 1px 2px rgba(0, 0, 0, 0.3));\n",
              "      fill: #FFFFFF;\n",
              "    }\n",
              "  </style>\n",
              "\n",
              "      <script>\n",
              "        const buttonEl =\n",
              "          document.querySelector('#df-f636cec4-5e0c-47f5-8791-9960ea73d322 button.colab-df-convert');\n",
              "        buttonEl.style.display =\n",
              "          google.colab.kernel.accessAllowed ? 'block' : 'none';\n",
              "\n",
              "        async function convertToInteractive(key) {\n",
              "          const element = document.querySelector('#df-f636cec4-5e0c-47f5-8791-9960ea73d322');\n",
              "          const dataTable =\n",
              "            await google.colab.kernel.invokeFunction('convertToInteractive',\n",
              "                                                     [key], {});\n",
              "          if (!dataTable) return;\n",
              "\n",
              "          const docLinkHtml = 'Like what you see? Visit the ' +\n",
              "            '<a target=\"_blank\" href=https://colab.research.google.com/notebooks/data_table.ipynb>data table notebook</a>'\n",
              "            + ' to learn more about interactive tables.';\n",
              "          element.innerHTML = '';\n",
              "          dataTable['output_type'] = 'display_data';\n",
              "          await google.colab.output.renderOutput(dataTable, element);\n",
              "          const docLink = document.createElement('div');\n",
              "          docLink.innerHTML = docLinkHtml;\n",
              "          element.appendChild(docLink);\n",
              "        }\n",
              "      </script>\n",
              "    </div>\n",
              "  </div>\n",
              "  "
            ]
          },
          "metadata": {},
          "execution_count": 7
        }
      ]
    },
    {
      "cell_type": "code",
      "source": [
        "df.info()"
      ],
      "metadata": {
        "id": "e6bGxmL3hdOx",
        "outputId": "fb4f9f1d-5118-450b-a1eb-8aaededde6ab",
        "colab": {
          "base_uri": "https://localhost:8080/"
        }
      },
      "execution_count": null,
      "outputs": [
        {
          "output_type": "stream",
          "name": "stdout",
          "text": [
            "<class 'pandas.core.frame.DataFrame'>\n",
            "RangeIndex: 104 entries, 0 to 103\n",
            "Data columns (total 10 columns):\n",
            " #   Column              Non-Null Count  Dtype  \n",
            "---  ------              --------------  -----  \n",
            " 0   Unnamed: 0          104 non-null    int64  \n",
            " 1   Startup Name        104 non-null    object \n",
            " 2   Industry            104 non-null    object \n",
            " 3   FoundingYear        104 non-null    object \n",
            " 4   Unicorn Entry Year  104 non-null    int64  \n",
            " 5   Profit in 2021      67 non-null     object \n",
            " 6   CurrentValuation    104 non-null    float64\n",
            " 7   Acquisitions        104 non-null    int64  \n",
            " 8   IPO Status          104 non-null    object \n",
            " 9   location            104 non-null    object \n",
            "dtypes: float64(1), int64(3), object(6)\n",
            "memory usage: 8.2+ KB\n"
          ]
        }
      ]
    },
    {
      "cell_type": "code",
      "source": [
        "df['location'].unique()"
      ],
      "metadata": {
        "colab": {
          "base_uri": "https://localhost:8080/"
        },
        "id": "CZKl1ZylbQzj",
        "outputId": "c6ca1ace-37fd-40ec-ca3b-df8f4d4ec9df"
      },
      "execution_count": null,
      "outputs": [
        {
          "output_type": "execute_result",
          "data": {
            "text/plain": [
              "array(['North Region', 'South Region', 'West Region'], dtype=object)"
            ]
          },
          "metadata": {},
          "execution_count": 9
        }
      ]
    },
    {
      "cell_type": "code",
      "source": [
        "df.loc[df[\"location\"]== \"Karantaka\",\"location\"]=\"Karnataka\"\n",
        "df.loc[df[\"location\"]== \"Karnatka\",\"location\"]=\"Karnataka\"\n",
        "df.loc[df[\"location\"]== \"Delhi \",\"location\"]=\"Delhi\"\n",
        "df.loc[df[\"location\"]== \"Mahrashtra\",\"location\"]=\"Maharashtra\""
      ],
      "metadata": {
        "id": "3Cpp9NVWbjgR"
      },
      "execution_count": null,
      "outputs": []
    },
    {
      "cell_type": "code",
      "source": [
        "df['location'].unique()"
      ],
      "metadata": {
        "id": "dz0KR2cSZ_sq",
        "colab": {
          "base_uri": "https://localhost:8080/"
        },
        "outputId": "7ca49165-c525-4dc1-f930-c52c68bc94c0"
      },
      "execution_count": null,
      "outputs": [
        {
          "output_type": "execute_result",
          "data": {
            "text/plain": [
              "array(['North Region', 'South Region', 'West Region'], dtype=object)"
            ]
          },
          "metadata": {},
          "execution_count": 11
        }
      ]
    },
    {
      "cell_type": "code",
      "source": [
        "for i in df['location']:\n",
        "  if i == 'Tamil Nadu' or i == 'Karnataka' or i == 'Telangana':\n",
        "     i = 'South Region'"
      ],
      "metadata": {
        "id": "hiApde6jeXf_"
      },
      "execution_count": null,
      "outputs": []
    },
    {
      "cell_type": "code",
      "source": [
        "df['location'] = df[\"location\"].replace([\"Tamil Nadu\",'Karnataka','Telangana'],\"South Region\")\n",
        "df['location'] = df[\"location\"].replace([\"Delhi\",'Haryana','Uttar Pradesh','Rajasthan'],\"North Region\")\n",
        "df['location'] = df[\"location\"].replace([\"Maharashtra\"],\"West Region\")"
      ],
      "metadata": {
        "id": "Y2uHjQY7fJh7"
      },
      "execution_count": null,
      "outputs": []
    },
    {
      "cell_type": "code",
      "source": [
        "df['location'].unique()"
      ],
      "metadata": {
        "id": "Q5lOGrDSeuA-",
        "colab": {
          "base_uri": "https://localhost:8080/"
        },
        "outputId": "2fd27417-7e1e-45cb-a3a1-2a80167f53a4"
      },
      "execution_count": null,
      "outputs": [
        {
          "output_type": "execute_result",
          "data": {
            "text/plain": [
              "array(['North Region', 'South Region', 'West Region'], dtype=object)"
            ]
          },
          "metadata": {},
          "execution_count": 14
        }
      ]
    },
    {
      "cell_type": "code",
      "source": [
        "sns.countplot(x=\"Unicorn Entry Year\",data=df)"
      ],
      "metadata": {
        "colab": {
          "base_uri": "https://localhost:8080/",
          "height": 296
        },
        "id": "o2wRsMkRWYgY",
        "outputId": "ca164879-508b-49c8-d57f-408d39d87a13"
      },
      "execution_count": null,
      "outputs": [
        {
          "output_type": "execute_result",
          "data": {
            "text/plain": [
              "<matplotlib.axes._subplots.AxesSubplot at 0x7f8a4c4659d0>"
            ]
          },
          "metadata": {},
          "execution_count": 20
        },
        {
          "output_type": "display_data",
          "data": {
            "text/plain": [
              "<Figure size 432x288 with 1 Axes>"
            ],
            "image/png": "[encoded data removed]"
          },
          "metadata": {
            "needs_background": "light"
          }
        }
      ]
    },
    {
      "cell_type": "code",
      "source": [
        "df[\"Unicorn Entry Year\"].value_counts() [2022]"
      ],
      "metadata": {
        "colab": {
          "base_uri": "https://localhost:8080/"
        },
        "id": "sDkmtEfVWnwB",
        "outputId": "2cb58c65-f08f-4640-efa2-cf1fa8f76da9"
      },
      "execution_count": null,
      "outputs": [
        {
          "output_type": "execute_result",
          "data": {
            "text/plain": [
              "19"
            ]
          },
          "metadata": {},
          "execution_count": 24
        }
      ]
    },
    {
      "cell_type": "code",
      "source": [
        "import seaborn as sns\n",
        "sns.countplot(x=\"location\",data=df)"
      ],
      "metadata": {
        "id": "gMRSRWNilQYj",
        "colab": {
          "base_uri": "https://localhost:8080/",
          "height": 296
        },
        "outputId": "0abd320b-7359-44c7-96bd-ae369fac032d"
      },
      "execution_count": null,
      "outputs": [
        {
          "output_type": "execute_result",
          "data": {
            "text/plain": [
              "<matplotlib.axes._subplots.AxesSubplot at 0x7f8a4c596880>"
            ]
          },
          "metadata": {},
          "execution_count": 15
        },
        {
          "output_type": "display_data",
          "data": {
            "text/plain": [
              "<Figure size 432x288 with 1 Axes>"
            ],
            "image/png": "[encoded data removed]"
          },
          "metadata": {
            "needs_background": "light"
          }
        }
      ]
    },
    {
      "cell_type": "code",
      "source": [
        "df[\"FoundingYear\"].unique()"
      ],
      "metadata": {
        "id": "c4u8aRrmeiTP",
        "colab": {
          "base_uri": "https://localhost:8080/"
        },
        "outputId": "54d2c1a1-d4dd-4b9c-9af2-b76bf2794e22"
      },
      "execution_count": null,
      "outputs": [
        {
          "output_type": "execute_result",
          "data": {
            "text/plain": [
              "array(['Post Startup India Scheme', 'Pre Startup India Scheme'],\n",
              "      dtype=object)"
            ]
          },
          "metadata": {},
          "execution_count": 17
        }
      ]
    },
    {
      "cell_type": "code",
      "source": [
        "df['FoundingYear'] = df[\"FoundingYear\"].replace([2011,2015,2012,2006,2008,2000,2014,2009,2010,2007, 2013, 1984, 2004,1998,2005],\"Pre Startup India Scheme\")\n",
        "df['FoundingYear'] = df[\"FoundingYear\"].replace([2016,2018,2017,2019,2021],\"Post Startup India Scheme\")"
      ],
      "metadata": {
        "id": "4meK-lrtmYZI"
      },
      "execution_count": null,
      "outputs": []
    },
    {
      "cell_type": "code",
      "source": [
        "df['FoundingYear'].unique()"
      ],
      "metadata": {
        "id": "kQg8hnDrp23t"
      },
      "execution_count": null,
      "outputs": []
    },
    {
      "cell_type": "code",
      "source": [
        "sns.countplot(x=\"Founding Year\",data=df)"
      ],
      "metadata": {
        "id": "mmyhJOiOph1I"
      },
      "execution_count": null,
      "outputs": []
    },
    {
      "cell_type": "code",
      "source": [
        "df[\"Current Valuation\"].unique()"
      ],
      "metadata": {
        "id": "cdGuo43Iefdr"
      },
      "execution_count": null,
      "outputs": []
    },
    {
      "cell_type": "code",
      "source": [
        "for i in df.index:\n",
        "  num = \"\"\n",
        "  for c in df.iat[i,5]:\n",
        "    if c.isdigit() or c == '.':\n",
        "      num = num + c\n",
        "      df.loc[i, ['Current Valuation']] = [num]\n",
        "\n"
      ],
      "metadata": {
        "id": "FZf5IoXSi_k6"
      },
      "execution_count": null,
      "outputs": []
    },
    {
      "cell_type": "code",
      "source": [
        "df['Current Valuation'] = df['Current Valuation'].astype('float64')"
      ],
      "metadata": {
        "id": "nWRia66WMfV-"
      },
      "execution_count": null,
      "outputs": []
    },
    {
      "cell_type": "code",
      "source": [
        "ax = df[\"Current Valuation\"].plot(kind='line')"
      ],
      "metadata": {
        "id": "xqJIzyFm73qT"
      },
      "execution_count": null,
      "outputs": []
    },
    {
      "cell_type": "code",
      "source": [
        "df[\"Current Valuation\"] = np.cbrt(df[\"Current Valuation\"])"
      ],
      "metadata": {
        "id": "uFiKLi7R-IXD"
      },
      "execution_count": null,
      "outputs": []
    },
    {
      "cell_type": "code",
      "source": [
        "df.info()"
      ],
      "metadata": {
        "id": "OmYSvMztJ62D"
      },
      "execution_count": null,
      "outputs": []
    },
    {
      "cell_type": "code",
      "source": [
        "df. rename(columns = {'Current Valuation':'CurrentValuation', 'Founding Year':'FoundingYear'}, inplace = True)\n",
        "df.info()"
      ],
      "metadata": {
        "id": "YOTPGueTO3ut"
      },
      "execution_count": null,
      "outputs": []
    },
    {
      "cell_type": "code",
      "source": [
        "import statsmodels.api as sm\n",
        "from statsmodels.formula.api import ols\n",
        "\n",
        "#perform two-way ANOVA\n",
        "model= ols('CurrentValuation ~ C(FoundingYear) + C(location) + C(FoundingYear): C(location)', data=df).fit()\n",
        "sm.stats.anova_lm(model, typ=2)"
      ],
      "metadata": {
        "id": "3KTpuIEDKCDS",
        "colab": {
          "base_uri": "https://localhost:8080/",
          "height": 175
        },
        "outputId": "b060260c-0f50-48b7-f803-b834e50c90f8"
      },
      "execution_count": null,
      "outputs": [
        {
          "output_type": "execute_result",
          "data": {
            "text/plain": [
              "                                  sum_sq    df         F    PR(>F)\n",
              "C(FoundingYear)                66.044252   1.0  3.089717  0.081911\n",
              "C(location)                     8.209043   2.0  0.192020  0.825600\n",
              "C(FoundingYear):C(location)    35.669677   2.0  0.834359  0.437213\n",
              "Residual                     2094.799191  98.0       NaN       NaN"
            ],
            "text/html": [
              "\n",
              "  <div id=\"df-403d529d-17e2-4142-859f-c5386406c9fd\">\n",
              "    <div class=\"colab-df-container\">\n",
              "      <div>\n",
              "<style scoped>\n",
              "    .dataframe tbody tr th:only-of-type {\n",
              "        vertical-align: middle;\n",
              "    }\n",
              "\n",
              "    .dataframe tbody tr th {\n",
              "        vertical-align: top;\n",
              "    }\n",
              "\n",
              "    .dataframe thead th {\n",
              "        text-align: right;\n",
              "    }\n",
              "</style>\n",
              "<table border=\"1\" class=\"dataframe\">\n",
              "  <thead>\n",
              "    <tr style=\"text-align: right;\">\n",
              "      <th></th>\n",
              "      <th>sum_sq</th>\n",
              "      <th>df</th>\n",
              "      <th>F</th>\n",
              "      <th>PR(&gt;F)</th>\n",
              "    </tr>\n",
              "  </thead>\n",
              "  <tbody>\n",
              "    <tr>\n",
              "      <th>C(FoundingYear)</th>\n",
              "      <td>66.044252</td>\n",
              "      <td>1.0</td>\n",
              "      <td>3.089717</td>\n",
              "      <td>0.081911</td>\n",
              "    </tr>\n",
              "    <tr>\n",
              "      <th>C(location)</th>\n",
              "      <td>8.209043</td>\n",
              "      <td>2.0</td>\n",
              "      <td>0.192020</td>\n",
              "      <td>0.825600</td>\n",
              "    </tr>\n",
              "    <tr>\n",
              "      <th>C(FoundingYear):C(location)</th>\n",
              "      <td>35.669677</td>\n",
              "      <td>2.0</td>\n",
              "      <td>0.834359</td>\n",
              "      <td>0.437213</td>\n",
              "    </tr>\n",
              "    <tr>\n",
              "      <th>Residual</th>\n",
              "      <td>2094.799191</td>\n",
              "      <td>98.0</td>\n",
              "      <td>NaN</td>\n",
              "      <td>NaN</td>\n",
              "    </tr>\n",
              "  </tbody>\n",
              "</table>\n",
              "</div>\n",
              "      <button class=\"colab-df-convert\" onclick=\"convertToInteractive('df-403d529d-17e2-4142-859f-c5386406c9fd')\"\n",
              "              title=\"Convert this dataframe to an interactive table.\"\n",
              "              style=\"display:none;\">\n",
              "        \n",
              "  <svg xmlns=\"http://www.w3.org/2000/svg\" height=\"24px\"viewBox=\"0 0 24 24\"\n",
              "       width=\"24px\">\n",
              "    <path d=\"M0 0h24v24H0V0z\" fill=\"none\"/>\n",
              "    <path d=\"M18.56 5.44l.94 2.06.94-2.06 2.06-.94-2.06-.94-.94-2.06-.94 2.06-2.06.94zm-11 1L8.5 8.5l.94-2.06 2.06-.94-2.06-.94L8.5 2.5l-.94 2.06-2.06.94zm10 10l.94 2.06.94-2.06 2.06-.94-2.06-.94-.94-2.06-.94 2.06-2.06.94z\"/><path d=\"M17.41 7.96l-1.37-1.37c-.4-.4-.92-.59-1.43-.59-.52 0-1.04.2-1.43.59L10.3 9.45l-7.72 7.72c-.78.78-.78 2.05 0 2.83L4 21.41c.39.39.9.59 1.41.59.51 0 1.02-.2 1.41-.59l7.78-7.78 2.81-2.81c.8-.78.8-2.07 0-2.86zM5.41 20L4 18.59l7.72-7.72 1.47 1.35L5.41 20z\"/>\n",
              "  </svg>\n",
              "      </button>\n",
              "      \n",
              "  <style>\n",
              "    .colab-df-container {\n",
              "      display:flex;\n",
              "      flex-wrap:wrap;\n",
              "      gap: 12px;\n",
              "    }\n",
              "\n",
              "    .colab-df-convert {\n",
              "      background-color: #E8F0FE;\n",
              "      border: none;\n",
              "      border-radius: 50%;\n",
              "      cursor: pointer;\n",
              "      display: none;\n",
              "      fill: #1967D2;\n",
              "      height: 32px;\n",
              "      padding: 0 0 0 0;\n",
              "      width: 32px;\n",
              "    }\n",
              "\n",
              "    .colab-df-convert:hover {\n",
              "      background-color: #E2EBFA;\n",
              "      box-shadow: 0px 1px 2px rgba(60, 64, 67, 0.3), 0px 1px 3px 1px rgba(60, 64, 67, 0.15);\n",
              "      fill: #174EA6;\n",
              "    }\n",
              "\n",
              "    [theme=dark] .colab-df-convert {\n",
              "      background-color: #3B4455;\n",
              "      fill: #D2E3FC;\n",
              "    }\n",
              "\n",
              "    [theme=dark] .colab-df-convert:hover {\n",
              "      background-color: #434B5C;\n",
              "      box-shadow: 0px 1px 3px 1px rgba(0, 0, 0, 0.15);\n",
              "      filter: drop-shadow(0px 1px 2px rgba(0, 0, 0, 0.3));\n",
              "      fill: #FFFFFF;\n",
              "    }\n",
              "  </style>\n",
              "\n",
              "      <script>\n",
              "        const buttonEl =\n",
              "          document.querySelector('#df-403d529d-17e2-4142-859f-c5386406c9fd button.colab-df-convert');\n",
              "        buttonEl.style.display =\n",
              "          google.colab.kernel.accessAllowed ? 'block' : 'none';\n",
              "\n",
              "        async function convertToInteractive(key) {\n",
              "          const element = document.querySelector('#df-403d529d-17e2-4142-859f-c5386406c9fd');\n",
              "          const dataTable =\n",
              "            await google.colab.kernel.invokeFunction('convertToInteractive',\n",
              "                                                     [key], {});\n",
              "          if (!dataTable) return;\n",
              "\n",
              "          const docLinkHtml = 'Like what you see? Visit the ' +\n",
              "            '<a target=\"_blank\" href=https://colab.research.google.com/notebooks/data_table.ipynb>data table notebook</a>'\n",
              "            + ' to learn more about interactive tables.';\n",
              "          element.innerHTML = '';\n",
              "          dataTable['output_type'] = 'display_data';\n",
              "          await google.colab.output.renderOutput(dataTable, element);\n",
              "          const docLink = document.createElement('div');\n",
              "          docLink.innerHTML = docLinkHtml;\n",
              "          element.appendChild(docLink);\n",
              "        }\n",
              "      </script>\n",
              "    </div>\n",
              "  </div>\n",
              "  "
            ]
          },
          "metadata": {},
          "execution_count": 27
        }
      ]
    },
    {
      "cell_type": "markdown",
      "source": [
        "From the first p value we get that founding year does have an effect on the valuation of the unicorn,whereas for location dosenot and there is no interaction effect between the two columns."
      ],
      "metadata": {
        "id": "TTNAY1kfSuEo"
      }
    },
    {
      "cell_type": "code",
      "source": [
        "df.to_csv(r\"/content/drive/MyDrive/UNICORN.csv\")"
      ],
      "metadata": {
        "id": "bLQ-YXP7StZT"
      },
      "execution_count": null,
      "outputs": []
    },
    {
      "cell_type": "code",
      "source": [
        "from google.colab import drive\n",
        "drive.mount('/content/drive')"
      ],
      "metadata": {
        "id": "dicFHN622937"
      },
      "execution_count": null,
      "outputs": []
    },
    {
      "cell_type": "code",
      "source": [
        "df['Industry'].unique()"
      ],
      "metadata": {
        "id": "JfP2hXndYWQO"
      },
      "execution_count": null,
      "outputs": []
    },
    {
      "cell_type": "code",
      "source": [
        "df['Industry'] = df[\"Industry\"].replace([\"Edtech\",'SaaS- CRM','Gaming','SaaS- Analytics','Content Technology','SaaS- HR','Marketplace- Automotives','SaaS- Conversational Automation','SaaS- Programming Tools','PropTech','ESports',\"Social Media\",'Marketplace- Employment','Automotive',\"Home Services\",'Software','Cloud Infrastructure and Software','Blockchain','Saas- Enterprise Software','Social News','Mobile Technology','Saas- API Development and Testing','Saas- Contract Management','Saas- Data Management','Saas- Contract Management',\n",
        "       'Saas- Data Management','Foodtech','Fantasy Sports','SaaS - CRM','Adtech', 'Online Travel','Saas- Spa and Salon Services'],\"Technology\")\n",
        "df[\"Industry\"]=df[\"Industry\"].replace(['E-commerce Logistics','B2B E-commerce','E-commerce Personal Care','E-commerce','E-commerce Interior Design', 'E-commerce Management Platform','E-commerce Automotives', 'E-commerce Meat Products','E-commerce- Groceries', 'E-commerce Food Delivery', 'E-commerce Retail', 'B2C E-commerce','E-commerce Logistics Services', 'E-commerce- Eyewear','E-commerce Finance'],'E-Commerce')\n",
        "df[\"Industry\"]=df[\"Industry\"].replace(['Fintech','Fintech Payments','Insurtech', 'Financial Technology','Financial Services','Cryptocurrencies','Cryptocurrency Exchange','Insurance company','Insurance','Stockbroker'],\"Finance\")\n",
        "df[\"Industry\"]=df[\"Industry\"].replace(['Building Materials', 'Logistics','Transportation','Renewable Energy'],\"Transportation\")\n",
        "df[\"Industry\"]=df[\"Industry\"].replace([\"Healthcare Technology\",'Healthtech', 'Healthcare','Online Pharmacy'],\"Healthcare\")\n",
        "df[\"Industry\"]=df[\"Industry\"].replace(['Media, Advertising','Marketplace- Consumer goods','Personal Care Marketplace', 'Hospitality'],'Others')"
      ],
      "metadata": {
        "id": "yfX0blHxbMgR"
      },
      "execution_count": null,
      "outputs": []
    },
    {
      "cell_type": "code",
      "source": [
        "df['Industry'].unique()"
      ],
      "metadata": {
        "id": "GSpXVIgQhE2p"
      },
      "execution_count": null,
      "outputs": []
    },
    {
      "cell_type": "code",
      "source": [
        "sns.countplot(x=\"Industry\",data=df)"
      ],
      "metadata": {
        "id": "TgTULQzdllno"
      },
      "execution_count": null,
      "outputs": []
    },
    {
      "cell_type": "code",
      "source": [
        "df1=pd.read_csv(\"/content/unnicorns data set.csv\")\n",
        "df1.info()"
      ],
      "metadata": {
        "id": "kYHVun3yWqJX"
      },
      "execution_count": null,
      "outputs": []
    },
    {
      "cell_type": "code",
      "source": [
        "for i in df1.index:\n",
        "  num = \"\"\n",
        "  for c in df1.iat[i,1]:\n",
        "    if c.isdigit() or c == '.':\n",
        "      num = num + c\n",
        "      df1.loc[i, ['Valuation ($B)']] = [num]"
      ],
      "metadata": {
        "id": "cAUiRh4sXAAI"
      },
      "execution_count": null,
      "outputs": []
    },
    {
      "cell_type": "code",
      "source": [
        "df1.drop(df1[df1['Country'] == 'India'].index, inplace = True)"
      ],
      "metadata": {
        "id": "aQw-lpXCeGDc"
      },
      "execution_count": null,
      "outputs": []
    },
    {
      "cell_type": "code",
      "source": [
        "import random\n",
        "world_u=df1['Valuation ($B)'].tolist()\n",
        "world_sample=random.choices(world_u, k=50)\n",
        "indian_u=df[\"CurrentValuation\"].tolist()\n",
        "indian_sample=random.choices(indian_u, k=50)\n",
        "ws=np.array(world_sample)\n",
        "ins=np.array(indian_sample)\n",
        "print(ins)\n"
      ],
      "metadata": {
        "id": "asjURnxLeH_h"
      },
      "execution_count": null,
      "outputs": []
    },
    {
      "cell_type": "code",
      "source": [
        "import numpy as np\n",
        "import scipy.stats as stats\n",
        "\n",
        "#ttest\n",
        "print(stats.ttest_ind(ws,ins, equal_var=True))"
      ],
      "metadata": {
        "id": "sgLUlLl9hbhQ"
      },
      "execution_count": null,
      "outputs": []
    },
    {
      "cell_type": "code",
      "source": [],
      "metadata": {
        "id": "NvHrCSNhgv2T"
      },
      "execution_count": null,
      "outputs": []
    }
  ]
}